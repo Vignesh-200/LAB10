{
  "nbformat": 4,
  "nbformat_minor": 0,
  "metadata": {
    "colab": {
      "provenance": []
    },
    "kernelspec": {
      "name": "python3",
      "display_name": "Python 3"
    },
    "language_info": {
      "name": "python"
    }
  },
  "cells": [
    {
      "cell_type": "code",
      "execution_count": 1,
      "metadata": {
        "colab": {
          "base_uri": "https://localhost:8080/"
        },
        "id": "cuCxEHoZTutk",
        "outputId": "61b1dd5e-5e32-4030-ed44-b3a06e43864d"
      },
      "outputs": [
        {
          "output_type": "stream",
          "name": "stdout",
          "text": [
            "Mean Squared Error: 459331.2168344662\n",
            "R-squared: 0.36179874483673435\n",
            "Accuracy: 83.51198377119387\n"
          ]
        },
        {
          "output_type": "stream",
          "name": "stderr",
          "text": [
            "/usr/local/lib/python3.10/dist-packages/sklearn/linear_model/_logistic.py:458: ConvergenceWarning: lbfgs failed to converge (status=1):\n",
            "STOP: TOTAL NO. of ITERATIONS REACHED LIMIT.\n",
            "\n",
            "Increase the number of iterations (max_iter) or scale the data as shown in:\n",
            "    https://scikit-learn.org/stable/modules/preprocessing.html\n",
            "Please also refer to the documentation for alternative solver options:\n",
            "    https://scikit-learn.org/stable/modules/linear_model.html#logistic-regression\n",
            "  n_iter_i = _check_optimize_result(\n"
          ]
        }
      ],
      "source": [
        "import pandas as pd\n",
        "from sklearn.model_selection import train_test_split\n",
        "from sklearn.linear_model import LinearRegression\n",
        "from sklearn.metrics import mean_squared_error, r2_score\n",
        "\n",
        "# Load the training and test data\n",
        "train_data = pd.read_csv('/train-1.csv')\n",
        "test_data = pd.read_csv('/test.csv')\n",
        "\n",
        "# Example: Handling missing values by filling with 0\n",
        "train_data.fillna(0, inplace=True)\n",
        "test_data.fillna(0, inplace=True)\n",
        "\n",
        "# Remove 'ID' column\n",
        "train_data = train_data.drop(columns=['ID'])\n",
        "test_data = test_data.drop(columns=['ID'])\n",
        "\n",
        "# Define features and target\n",
        "X = train_data.drop(columns=['Estimated_Insects_Count'])\n",
        "y = train_data['Estimated_Insects_Count']\n",
        "\n",
        "# Split data into training and validation sets\n",
        "X_train, X_val, y_train, y_val = train_test_split(X, y, test_size=0.2, random_state=42)\n",
        "\n",
        "# Create and train the Linear Regression model\n",
        "model = LinearRegression()\n",
        "model.fit(X_train, y_train)\n",
        "\n",
        "# Make predictions on the validation set\n",
        "y_val_pred = model.predict(X_val)\n",
        "\n",
        "# Calculate evaluation metrics\n",
        "mse = mean_squared_error(y_val, y_val_pred)\n",
        "r2 = r2_score(y_val, y_val_pred)\n",
        "\n",
        "print(\"Mean Squared Error:\", mse)\n",
        "print(\"R-squared:\", r2)\n",
        "import pandas as pd\n",
        "from sklearn.linear_model import LogisticRegression\n",
        "from sklearn.metrics import accuracy_score\n",
        "\n",
        "# Load the training data\n",
        "train_data = pd.read_csv(\"/train-1.csv\")\n",
        "\n",
        "# Drop rows with missing values\n",
        "train_data = train_data.dropna()\n",
        "\n",
        "# Drop columns with missing values (if needed)\n",
        "# train_data = train_data.dropna(axis=1)\n",
        "\n",
        "# Drop the 'ID' column\n",
        "train_data = train_data.drop(columns=[\"ID\"])\n",
        "\n",
        "# Define features and target\n",
        "x_train = train_data.drop(\"Crop_Damage\", axis=1)\n",
        "y_train = train_data[\"Crop_Damage\"]\n",
        "\n",
        "# Create and train the Logistic Regression model\n",
        "model = LogisticRegression()\n",
        "model.fit(x_train, y_train)\n",
        "\n",
        "# Make predictions on the training data\n",
        "y_pred = model.predict(x_train)\n",
        "\n",
        "# Calculate the accuracy of the model\n",
        "accuracy = accuracy_score(y_train, y_pred)\n",
        "\n",
        "print(\"Accuracy:\", accuracy * 100)"
      ]
    }
  ]
}